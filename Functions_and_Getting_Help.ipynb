{
  "nbformat": 4,
  "nbformat_minor": 0,
  "metadata": {
    "colab": {
      "provenance": [],
      "authorship_tag": "ABX9TyN7eMberu4Cdmj/KC/2zlzu"
    },
    "kernelspec": {
      "name": "python3",
      "display_name": "Python 3"
    },
    "language_info": {
      "name": "python"
    }
  },
  "cells": [
    {
      "cell_type": "markdown",
      "source": [
        "# **1**"
      ],
      "metadata": {
        "id": "PxQQ_Fg7hafK"
      }
    },
    {
      "cell_type": "markdown",
      "source": [
        "Complete the body of the following function according to its docstring.\n",
        "\n",
        "HINT: Python has a built-in function round."
      ],
      "metadata": {
        "id": "eXdE0beOhhPB"
      }
    },
    {
      "cell_type": "code",
      "source": [
        "def round_to_two_places(num):\n",
        "    \"\"\"Return the given number rounded to two decimal places.\n",
        "\n",
        "    >>> round_to_two_places(3.14159)\n",
        "    3.14\n",
        "    \"\"\"\n",
        "    return round(num, 2)\n",
        "\n",
        "print(round_to_two_places(3.14159))"
      ],
      "metadata": {
        "colab": {
          "base_uri": "https://localhost:8080/"
        },
        "id": "5u833LQChgrx",
        "outputId": "53941a15-f702-4734-88a5-025fe2544338"
      },
      "execution_count": 7,
      "outputs": [
        {
          "output_type": "stream",
          "name": "stdout",
          "text": [
            "3.14\n"
          ]
        }
      ]
    },
    {
      "cell_type": "markdown",
      "source": [
        "# **2**"
      ],
      "metadata": {
        "id": "Gg5dovxji4Br"
      }
    },
    {
      "cell_type": "markdown",
      "source": [
        "The help for round says that ndigits (the second argument) may be negative. What do you think will happen when it is? Try some examples in the following cell."
      ],
      "metadata": {
        "id": "hbGFLDEIi5ka"
      }
    },
    {
      "cell_type": "code",
      "execution_count": 9,
      "metadata": {
        "colab": {
          "base_uri": "https://localhost:8080/"
        },
        "id": "3mW5HceTgtTF",
        "outputId": "c099d464-4046-49bf-de75-4bc95db426d4"
      },
      "outputs": [
        {
          "output_type": "stream",
          "name": "stdout",
          "text": [
            "2524237623800000\n",
            "30000000\n"
          ]
        }
      ],
      "source": [
        "print(round(2524237623764239, -5))\n",
        "print(round(34324234, -7))"
      ]
    },
    {
      "cell_type": "markdown",
      "source": [
        "# **3**"
      ],
      "metadata": {
        "id": "AWHAb0bTkIOz"
      }
    },
    {
      "cell_type": "markdown",
      "source": [
        "In the previous exercise, the candy-sharing friends Alice, Bob and Carol tried to split candies evenly. For the sake of their friendship, any candies left over would be smashed. For example, if they collectively bring home 91 candies, they'll take 30 each and smash 1.\n",
        "\n",
        "Below is a simple function that will calculate the number of candies to smash for any number of total candies.\n",
        "\n",
        "Modify it so that it optionally takes a second argument representing the number of friends the candies are being split between. If no second argument is provided, it should assume 3 friends, as before.\n",
        "\n",
        "Update the docstring to reflect this new behaviour."
      ],
      "metadata": {
        "id": "Yp-RUaWKkKZp"
      }
    },
    {
      "cell_type": "code",
      "source": [
        "def to_smash(total_candies, friend=3):\n",
        "    \"\"\"Return the number of leftover candies that must be smashed after distributing\n",
        "    the given number of candies evenly between 3 friends.\n",
        "\n",
        "    >>> to_smash(91)\n",
        "    1\n",
        "    \"\"\"\n",
        "    return total_candies % friend\n",
        "\n",
        "print(to_smash(101))"
      ],
      "metadata": {
        "colab": {
          "base_uri": "https://localhost:8080/"
        },
        "id": "8hISxwTgkJo7",
        "outputId": "ec73c740-0e70-4230-ce48-4b5dd3d8b222"
      },
      "execution_count": 13,
      "outputs": [
        {
          "output_type": "stream",
          "name": "stdout",
          "text": [
            "2\n"
          ]
        }
      ]
    },
    {
      "cell_type": "markdown",
      "source": [
        "# **4 (Optional)**"
      ],
      "metadata": {
        "id": "djMFq8YAk9ch"
      }
    },
    {
      "cell_type": "markdown",
      "source": [
        "It may not be fun, but reading and understanding error messages will be an important part of your Python career.\n",
        "\n",
        "Each code cell below contains some commented buggy code. For each cell...\n",
        "\n",
        "Read the code and predict what you think will happen when it's run.\n",
        "Then uncomment the code and run it to see what happens. (Tip: In the kernel editor, you can highlight several lines and press ctrl+/ to toggle commenting.)\n",
        "Fix the code (so that it accomplishes its intended purpose without throwing an exception)"
      ],
      "metadata": {
        "id": "r8PTc-kHlDIR"
      }
    },
    {
      "cell_type": "code",
      "source": [
        "# ruound_to_two_places(9.9999)\n",
        "def round_to_two_places(num):\n",
        "    return round(num, 2)\n",
        "\n",
        "print(round_to_two_places(9.9999))"
      ],
      "metadata": {
        "colab": {
          "base_uri": "https://localhost:8080/"
        },
        "id": "NN6QFdTvlYFq",
        "outputId": "ff757e45-4cc1-4c0e-eb8d-b156c68a5efd"
      },
      "execution_count": 14,
      "outputs": [
        {
          "output_type": "stream",
          "name": "stdout",
          "text": [
            "10.0\n"
          ]
        }
      ]
    },
    {
      "cell_type": "code",
      "source": [
        "# x = -10\n",
        "# y = 5\n",
        "# # Which of the two variables above has the smallest absolute value?\n",
        "# smallest_abs = min(abs(x, y))\n",
        "\n",
        "x = -10\n",
        "y = 5\n",
        "# Which of the two variables above has the smallest absolute value?\n",
        "smallest_abs = min(abs(x), abs(y))\n",
        "print(smallest_abs)"
      ],
      "metadata": {
        "colab": {
          "base_uri": "https://localhost:8080/"
        },
        "id": "U7DcmgXUl4ky",
        "outputId": "ce5a4bf9-f806-48e9-d83d-3feadf2deabc"
      },
      "execution_count": 20,
      "outputs": [
        {
          "output_type": "stream",
          "name": "stdout",
          "text": [
            "5\n"
          ]
        }
      ]
    },
    {
      "cell_type": "code",
      "source": [
        "# def f(x):\n",
        "#     y = abs(x)\n",
        "# return y\n",
        "\n",
        "# print(f(5))\n",
        "\n",
        "def f(x):\n",
        "    y = abs(x)\n",
        "    return y\n",
        "\n",
        "print(f(5))"
      ],
      "metadata": {
        "colab": {
          "base_uri": "https://localhost:8080/"
        },
        "id": "2Ihom6NmmVVJ",
        "outputId": "d2c8726f-11ab-465d-8745-63f490ff889a"
      },
      "execution_count": 23,
      "outputs": [
        {
          "output_type": "stream",
          "name": "stdout",
          "text": [
            "5\n"
          ]
        }
      ]
    }
  ]
}