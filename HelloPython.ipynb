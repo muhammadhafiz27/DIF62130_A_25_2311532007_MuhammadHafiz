{
  "nbformat": 4,
  "nbformat_minor": 0,
  "metadata": {
    "colab": {
      "provenance": [],
      "authorship_tag": "ABX9TyM//dQflucbZlaV6yzcV5fl",
      "include_colab_link": true
    },
    "kernelspec": {
      "name": "python3",
      "display_name": "Python 3"
    },
    "language_info": {
      "name": "python"
    }
  },
  "cells": [
    {
      "cell_type": "markdown",
      "metadata": {
        "id": "view-in-github",
        "colab_type": "text"
      },
      "source": [
        "<a href=\"https://colab.research.google.com/github/muhammadhafiz27/DIF62130_A_25_2311532007_MuhammadHafiz/blob/main/HelloPython.ipynb\" target=\"_parent\"><img src=\"https://colab.research.google.com/assets/colab-badge.svg\" alt=\"Open In Colab\"/></a>"
      ]
    },
    {
      "cell_type": "markdown",
      "source": [
        "# **0**"
      ],
      "metadata": {
        "id": "133ewrcXaTOz"
      }
    },
    {
      "cell_type": "markdown",
      "source": [
        "**What is your favorite color? **"
      ],
      "metadata": {
        "id": "CBDw-J5kajdL"
      }
    },
    {
      "cell_type": "code",
      "execution_count": 4,
      "metadata": {
        "colab": {
          "base_uri": "https://localhost:8080/"
        },
        "id": "8qDFq45mX7-z",
        "outputId": "5a781ade-6ddf-4703-f10b-ba8fdddfce57"
      },
      "outputs": [
        {
          "output_type": "stream",
          "name": "stdout",
          "text": [
            "blue\n"
          ]
        }
      ],
      "source": [
        "color = \"blue\"\n",
        "print(color)"
      ]
    },
    {
      "cell_type": "markdown",
      "source": [
        "# **1**"
      ],
      "metadata": {
        "id": "GZyihXxRaWU5"
      }
    },
    {
      "cell_type": "markdown",
      "source": [
        "Complete the code below. In case it's helpful, here is the table of available arithmetic operations:"
      ],
      "metadata": {
        "id": "j_Vz1be7akiQ"
      }
    },
    {
      "cell_type": "markdown",
      "source": [
        "![Screenshot 2025-02-20 151347.png](data:image/png;base64,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)"
      ],
      "metadata": {
        "id": "qEgjZApIa1Wg"
      }
    },
    {
      "cell_type": "code",
      "source": [
        "pi = 3.14159\n",
        "diameter = 3\n",
        "\n",
        "# Create a variable called 'radius' equal to half the diameter\n",
        "radius = diameter / 2\n",
        "\n",
        "# Create a variable called 'area', using the formula for the area of a circle: pi times the radius squared\n",
        "area = pi * radius ** 2\n",
        "\n",
        "# Check your answer\n",
        "print(radius)\n",
        "print(area)"
      ],
      "metadata": {
        "colab": {
          "base_uri": "https://localhost:8080/"
        },
        "id": "mhbWu4OWYtKJ",
        "outputId": "a31c13d9-980c-45b9-e044-9a3370ba6629"
      },
      "execution_count": 5,
      "outputs": [
        {
          "output_type": "stream",
          "name": "stdout",
          "text": [
            "1.5\n",
            "7.0685775\n"
          ]
        }
      ]
    },
    {
      "cell_type": "markdown",
      "source": [
        "# **2**"
      ],
      "metadata": {
        "id": "fku9kyt2aXjg"
      }
    },
    {
      "cell_type": "markdown",
      "source": [
        "Add code to the following cell to swap variables a and b (so that a refers to the object previously referred to by b and vice versa)."
      ],
      "metadata": {
        "id": "QTovyTzKbFhh"
      }
    },
    {
      "cell_type": "code",
      "source": [
        "a = [1, 2, 3]\n",
        "b = [3, 2, 1]\n",
        "\n",
        "tmp = a\n",
        "a = b\n",
        "b = tmp\n",
        "\n",
        "print(a)\n",
        "print(b)"
      ],
      "metadata": {
        "colab": {
          "base_uri": "https://localhost:8080/"
        },
        "id": "xQWdzCd8ZDw5",
        "outputId": "91cb0d6a-ab30-45e9-d6b7-f91ab7ab76c2"
      },
      "execution_count": 11,
      "outputs": [
        {
          "output_type": "stream",
          "name": "stdout",
          "text": [
            "[3, 2, 1]\n",
            "[1, 2, 3]\n"
          ]
        }
      ]
    },
    {
      "cell_type": "markdown",
      "source": [
        "# **3a**"
      ],
      "metadata": {
        "id": "oSdcJDINbGgw"
      }
    },
    {
      "cell_type": "markdown",
      "source": [
        "Add parentheses to the following expression so that it evaluates to 1."
      ],
      "metadata": {
        "id": "2WZyi_9wbIiJ"
      }
    },
    {
      "cell_type": "code",
      "source": [
        "5 - 3 // 2"
      ],
      "metadata": {
        "colab": {
          "base_uri": "https://localhost:8080/"
        },
        "id": "kDhop1dLcBvb",
        "outputId": "422adc3e-94ee-4b33-b44c-c31c346ebdad"
      },
      "execution_count": 12,
      "outputs": [
        {
          "output_type": "execute_result",
          "data": {
            "text/plain": [
              "4"
            ]
          },
          "metadata": {},
          "execution_count": 12
        }
      ]
    },
    {
      "cell_type": "markdown",
      "source": [
        "Jawaban"
      ],
      "metadata": {
        "id": "XQyWLALucE7x"
      }
    },
    {
      "cell_type": "code",
      "source": [
        "(5 - 3) // 2"
      ],
      "metadata": {
        "colab": {
          "base_uri": "https://localhost:8080/"
        },
        "id": "z0ziaa50cDUQ",
        "outputId": "d1e9e7be-543c-4f40-bc29-cc7b0b8f456a"
      },
      "execution_count": 13,
      "outputs": [
        {
          "output_type": "execute_result",
          "data": {
            "text/plain": [
              "1"
            ]
          },
          "metadata": {},
          "execution_count": 13
        }
      ]
    },
    {
      "cell_type": "markdown",
      "source": [
        "# **3b**"
      ],
      "metadata": {
        "id": "qsWtltZtcQXo"
      }
    },
    {
      "cell_type": "markdown",
      "source": [
        "Add parentheses to the following expression so that it evaluates to 0."
      ],
      "metadata": {
        "id": "XcdG-fxacSF5"
      }
    },
    {
      "cell_type": "code",
      "source": [
        "8 - 3 * 2 - 1 + 1"
      ],
      "metadata": {
        "colab": {
          "base_uri": "https://localhost:8080/"
        },
        "id": "xM9Jo3dqcVGR",
        "outputId": "5169b28d-d22d-4de4-e091-b0db226a9067"
      },
      "execution_count": 14,
      "outputs": [
        {
          "output_type": "execute_result",
          "data": {
            "text/plain": [
              "2"
            ]
          },
          "metadata": {},
          "execution_count": 14
        }
      ]
    },
    {
      "cell_type": "markdown",
      "source": [
        "Jawaban"
      ],
      "metadata": {
        "id": "Cf1fneCUcyvY"
      }
    },
    {
      "cell_type": "code",
      "source": [
        "8 - (3 * 2) - (1 + 1)"
      ],
      "metadata": {
        "colab": {
          "base_uri": "https://localhost:8080/"
        },
        "id": "E_SdOk5qcyTD",
        "outputId": "35a3f4bd-c536-43b5-88f9-9222b18b557b"
      },
      "execution_count": 16,
      "outputs": [
        {
          "output_type": "execute_result",
          "data": {
            "text/plain": [
              "0"
            ]
          },
          "metadata": {},
          "execution_count": 16
        }
      ]
    },
    {
      "cell_type": "markdown",
      "source": [
        "# **4**"
      ],
      "metadata": {
        "id": "Kcm8QxoidE9J"
      }
    },
    {
      "cell_type": "markdown",
      "source": [
        "Alice, Bob and Carol have agreed to pool their Halloween candy and split it evenly among themselves. For the sake of their friendship, any candies left over will be smashed. For example, if they collectively bring home 91 candies, they'll take 30 each and smash 1.\n",
        "\n",
        "Write an arithmetic expression below to calculate how many candies they must smash for a given haul."
      ],
      "metadata": {
        "id": "p8hr8E_SdY9x"
      }
    },
    {
      "cell_type": "code",
      "source": [
        "# Variables representing the number of candies collected by alice, bob, and carol\n",
        "alice_candies = 121\n",
        "bob_candies = 77\n",
        "carol_candies = 109\n",
        "\n",
        "# Your code goes here! Replace the right-hand side of this assignment with an expression\n",
        "# involving alice_candies, bob_candies, and carol_candies\n",
        "to_smash = -1\n",
        "\n",
        "# Jawaban\n",
        "(alice_candies + bob_candies + carol_candies) % 3"
      ],
      "metadata": {
        "colab": {
          "base_uri": "https://localhost:8080/"
        },
        "id": "vV8BBbO9dDPq",
        "outputId": "a5e52174-d30a-49f7-e0aa-ffde4ff553e9"
      },
      "execution_count": 18,
      "outputs": [
        {
          "output_type": "execute_result",
          "data": {
            "text/plain": [
              "1"
            ]
          },
          "metadata": {},
          "execution_count": 18
        }
      ]
    }
  ]
}