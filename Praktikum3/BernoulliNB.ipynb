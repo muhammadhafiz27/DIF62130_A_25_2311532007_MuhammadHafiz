{
  "nbformat": 4,
  "nbformat_minor": 0,
  "metadata": {
    "colab": {
      "provenance": [],
      "authorship_tag": "ABX9TyPRFjf1MxANi8BLmldl5zlN",
      "include_colab_link": true
    },
    "kernelspec": {
      "name": "python3",
      "display_name": "Python 3"
    },
    "language_info": {
      "name": "python"
    }
  },
  "cells": [
    {
      "cell_type": "markdown",
      "metadata": {
        "id": "view-in-github",
        "colab_type": "text"
      },
      "source": [
        "<a href=\"https://colab.research.google.com/github/muhammadhafiz27/DIF62130_A_25_2311532007_MuhammadHafiz/blob/main/Praktikum3/BernoulliNB.ipynb\" target=\"_parent\"><img src=\"https://colab.research.google.com/assets/colab-badge.svg\" alt=\"Open In Colab\"/></a>"
      ]
    },
    {
      "cell_type": "code",
      "source": [
        "import pandas as pd\n",
        "\n",
        "#load dataset\n",
        "dataset_url = 'https://raw.githubusercontent.com/muhammadhafiz27/DIF62130_A_25_2311532007_MuhammadHafiz/refs/heads/main/Dataset/Cleaned-Data.csv'\n",
        "df = pd.read_csv(dataset_url)\n",
        "\n",
        "#display dataset\n",
        "print(df.head())\n",
        ""
      ],
      "metadata": {
        "colab": {
          "base_uri": "https://localhost:8080/"
        },
        "id": "Ji5-DGR7WCG2",
        "outputId": "807b2ecf-f87f-42bb-aff6-33412c2a059d"
      },
      "execution_count": 22,
      "outputs": [
        {
          "output_type": "stream",
          "name": "stdout",
          "text": [
            "   Fever  Tiredness  Dry-Cough  Difficulty-in-Breathing  Sore-Throat  \\\n",
            "0      1          1          1                        1            1   \n",
            "1      1          1          1                        1            1   \n",
            "2      1          1          1                        1            1   \n",
            "3      1          1          1                        1            1   \n",
            "4      1          1          1                        1            1   \n",
            "\n",
            "   None_Sympton  Pains  Nasal-Congestion  Runny-Nose  Diarrhea  ...  \\\n",
            "0             0      1                 1           1         1  ...   \n",
            "1             0      1                 1           1         1  ...   \n",
            "2             0      1                 1           1         1  ...   \n",
            "3             0      1                 1           1         1  ...   \n",
            "4             0      1                 1           1         1  ...   \n",
            "\n",
            "   Gender_Male  Gender_Transgender  Severity_Mild  Severity_Moderate  \\\n",
            "0            1                   0              1                  0   \n",
            "1            1                   0              1                  0   \n",
            "2            1                   0              1                  0   \n",
            "3            1                   0              0                  1   \n",
            "4            1                   0              0                  1   \n",
            "\n",
            "   Severity_None  Severity_Severe  Contact_Dont-Know  Contact_No  Contact_Yes  \\\n",
            "0              0                0                  0           0            1   \n",
            "1              0                0                  0           1            0   \n",
            "2              0                0                  1           0            0   \n",
            "3              0                0                  0           0            1   \n",
            "4              0                0                  0           1            0   \n",
            "\n",
            "   Country  \n",
            "0    China  \n",
            "1    China  \n",
            "2    China  \n",
            "3    China  \n",
            "4    China  \n",
            "\n",
            "[5 rows x 27 columns]\n"
          ]
        }
      ]
    },
    {
      "cell_type": "code",
      "source": [
        "df.info()"
      ],
      "metadata": {
        "colab": {
          "base_uri": "https://localhost:8080/"
        },
        "id": "pO0xVzAmXq2e",
        "outputId": "be873fe6-5b50-4234-8be5-e7fbd0188cb4"
      },
      "execution_count": 23,
      "outputs": [
        {
          "output_type": "stream",
          "name": "stdout",
          "text": [
            "<class 'pandas.core.frame.DataFrame'>\n",
            "RangeIndex: 316800 entries, 0 to 316799\n",
            "Data columns (total 27 columns):\n",
            " #   Column                   Non-Null Count   Dtype \n",
            "---  ------                   --------------   ----- \n",
            " 0   Fever                    316800 non-null  int64 \n",
            " 1   Tiredness                316800 non-null  int64 \n",
            " 2   Dry-Cough                316800 non-null  int64 \n",
            " 3   Difficulty-in-Breathing  316800 non-null  int64 \n",
            " 4   Sore-Throat              316800 non-null  int64 \n",
            " 5   None_Sympton             316800 non-null  int64 \n",
            " 6   Pains                    316800 non-null  int64 \n",
            " 7   Nasal-Congestion         316800 non-null  int64 \n",
            " 8   Runny-Nose               316800 non-null  int64 \n",
            " 9   Diarrhea                 316800 non-null  int64 \n",
            " 10  None_Experiencing        316800 non-null  int64 \n",
            " 11  Age_0-9                  316800 non-null  int64 \n",
            " 12  Age_10-19                316800 non-null  int64 \n",
            " 13  Age_20-24                316800 non-null  int64 \n",
            " 14  Age_25-59                316800 non-null  int64 \n",
            " 15  Age_60+                  316800 non-null  int64 \n",
            " 16  Gender_Female            316800 non-null  int64 \n",
            " 17  Gender_Male              316800 non-null  int64 \n",
            " 18  Gender_Transgender       316800 non-null  int64 \n",
            " 19  Severity_Mild            316800 non-null  int64 \n",
            " 20  Severity_Moderate        316800 non-null  int64 \n",
            " 21  Severity_None            316800 non-null  int64 \n",
            " 22  Severity_Severe          316800 non-null  int64 \n",
            " 23  Contact_Dont-Know        316800 non-null  int64 \n",
            " 24  Contact_No               316800 non-null  int64 \n",
            " 25  Contact_Yes              316800 non-null  int64 \n",
            " 26  Country                  316800 non-null  object\n",
            "dtypes: int64(26), object(1)\n",
            "memory usage: 65.3+ MB\n"
          ]
        }
      ]
    },
    {
      "cell_type": "code",
      "source": [
        "#drop column country\n",
        "df = df.drop('Country', axis=1)\n",
        "\n",
        "print(df.head())\n"
      ],
      "metadata": {
        "colab": {
          "base_uri": "https://localhost:8080/"
        },
        "id": "l4oBuImcYxqS",
        "outputId": "bf3811f0-8b2f-4b69-a4cd-2a6b584bc31f"
      },
      "execution_count": 24,
      "outputs": [
        {
          "output_type": "stream",
          "name": "stdout",
          "text": [
            "   Fever  Tiredness  Dry-Cough  Difficulty-in-Breathing  Sore-Throat  \\\n",
            "0      1          1          1                        1            1   \n",
            "1      1          1          1                        1            1   \n",
            "2      1          1          1                        1            1   \n",
            "3      1          1          1                        1            1   \n",
            "4      1          1          1                        1            1   \n",
            "\n",
            "   None_Sympton  Pains  Nasal-Congestion  Runny-Nose  Diarrhea  ...  \\\n",
            "0             0      1                 1           1         1  ...   \n",
            "1             0      1                 1           1         1  ...   \n",
            "2             0      1                 1           1         1  ...   \n",
            "3             0      1                 1           1         1  ...   \n",
            "4             0      1                 1           1         1  ...   \n",
            "\n",
            "   Gender_Female  Gender_Male  Gender_Transgender  Severity_Mild  \\\n",
            "0              0            1                   0              1   \n",
            "1              0            1                   0              1   \n",
            "2              0            1                   0              1   \n",
            "3              0            1                   0              0   \n",
            "4              0            1                   0              0   \n",
            "\n",
            "   Severity_Moderate  Severity_None  Severity_Severe  Contact_Dont-Know  \\\n",
            "0                  0              0                0                  0   \n",
            "1                  0              0                0                  0   \n",
            "2                  0              0                0                  1   \n",
            "3                  1              0                0                  0   \n",
            "4                  1              0                0                  0   \n",
            "\n",
            "   Contact_No  Contact_Yes  \n",
            "0           0            1  \n",
            "1           1            0  \n",
            "2           0            0  \n",
            "3           0            1  \n",
            "4           1            0  \n",
            "\n",
            "[5 rows x 26 columns]\n"
          ]
        }
      ]
    },
    {
      "cell_type": "code",
      "source": [
        "from sklearn.model_selection import train_test_split\n",
        "from sklearn.metrics import classification_report, confusion_matrix\n",
        "from sklearn.naive_bayes import BernoulliNB\n",
        "import matplotlib.pyplot as plt\n",
        "import seaborn as sns\n",
        "\n",
        "# Assuming 'Class' is the target variable column and other columns are features\n",
        "X = df.drop('Severity_Severe', axis=1)\n",
        "y = df['Severity_Severe']\n",
        "\n",
        "# Split data into training and testing sets\n",
        "X_train, X_test, y_train, y_test = train_test_split(X, y, test_size=0.2, random_state=42) #adjust test_size as needed\n",
        "\n",
        "# Initialize and train the Bernoulli Naive Bayes classifier\n",
        "clf = BernoulliNB()\n",
        "clf.fit(X_train, y_train)\n",
        "\n",
        "# Make predictions on the test set\n",
        "y_pred = clf.predict(X_test)\n",
        "\n",
        "# Evaluate the model\n",
        "print(classification_report(y_test, y_pred))\n",
        "print(confusion_matrix(y_test, y_pred))\n"
      ],
      "metadata": {
        "colab": {
          "base_uri": "https://localhost:8080/"
        },
        "id": "aiDGAfOQWjtK",
        "outputId": "be9c1963-c7e8-43ae-a2d8-842f8f6fb209"
      },
      "execution_count": 25,
      "outputs": [
        {
          "output_type": "stream",
          "name": "stdout",
          "text": [
            "              precision    recall  f1-score   support\n",
            "\n",
            "           0       1.00      1.00      1.00     47641\n",
            "           1       1.00      1.00      1.00     15719\n",
            "\n",
            "    accuracy                           1.00     63360\n",
            "   macro avg       1.00      1.00      1.00     63360\n",
            "weighted avg       1.00      1.00      1.00     63360\n",
            "\n",
            "[[47641     0]\n",
            " [    0 15719]]\n"
          ]
        }
      ]
    },
    {
      "cell_type": "code",
      "source": [
        "# Plot the confusion matrix as a heatmap\n",
        "plt.figure(figsize=(8, 6))\n",
        "sns.heatmap(cm, annot=True, fmt='d', cmap='Blues',\n",
        "            xticklabels=['Not Severe', 'Severe'],\n",
        "            yticklabels=['Not Severe', 'Severe'])\n",
        "plt.xlabel('Predicted')\n",
        "plt.ylabel('Actual')\n",
        "plt.title('Confusion Matrix')\n",
        "plt.show()\n"
      ],
      "metadata": {
        "colab": {
          "base_uri": "https://localhost:8080/",
          "height": 564
        },
        "id": "jq5EdEeSapmY",
        "outputId": "93b54cce-1c0b-4a31-9068-abb38521405d"
      },
      "execution_count": 26,
      "outputs": [
        {
          "output_type": "display_data",
          "data": {
            "text/plain": [
              "<Figure size 800x600 with 2 Axes>"
            ],
            "image/png": "[encoded data removed]"
          },
          "metadata": {}
        }
      ]
    }
  ]
}