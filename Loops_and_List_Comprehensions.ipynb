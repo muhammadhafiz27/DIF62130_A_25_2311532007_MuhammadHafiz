{
  "nbformat": 4,
  "nbformat_minor": 0,
  "metadata": {
    "colab": {
      "provenance": [],
      "authorship_tag": "ABX9TyM3F8LyYv1dCg09dSY9NG6f",
      "include_colab_link": true
    },
    "kernelspec": {
      "name": "python3",
      "display_name": "Python 3"
    },
    "language_info": {
      "name": "python"
    }
  },
  "cells": [
    {
      "cell_type": "markdown",
      "metadata": {
        "id": "view-in-github",
        "colab_type": "text"
      },
      "source": [
        "<a href=\"https://colab.research.google.com/github/muhammadhafiz27/DIF62130_A_25_2311532007_MuhammadHafiz/blob/main/Loops_and_List_Comprehensions.ipynb\" target=\"_parent\"><img src=\"https://colab.research.google.com/assets/colab-badge.svg\" alt=\"Open In Colab\"/></a>"
      ]
    },
    {
      "cell_type": "markdown",
      "source": [
        "# **1**"
      ],
      "metadata": {
        "id": "0fOg-Bph5ZQ2"
      }
    },
    {
      "cell_type": "markdown",
      "source": [
        "Have you ever felt debugging involved a bit of luck? The following program has a bug. Try to identify the bug and fix it."
      ],
      "metadata": {
        "id": "_gHLXzOF5bLG"
      }
    },
    {
      "cell_type": "code",
      "execution_count": 1,
      "metadata": {
        "id": "pYagvFu65OOO"
      },
      "outputs": [],
      "source": [
        "def has_lucky_number(nums):\n",
        "    \"\"\"Return whether the given list of numbers is lucky. A lucky list contains\n",
        "    at least one number divisible by 7.\n",
        "    \"\"\"\n",
        "    for num in nums:\n",
        "        if num % 7 == 0:\n",
        "            return True\n",
        "        else:\n",
        "            return False"
      ]
    },
    {
      "cell_type": "code",
      "source": [
        "def has_lucky_number(nums):\n",
        "    for num in nums:\n",
        "        if num % 7 == 0:\n",
        "            return True\n",
        "    # We've exhausted the list without finding a lucky number\n",
        "    return False\n",
        "\n",
        "print(has_lucky_number([1, 2, 3, 4, 5, 6, 7]))\n",
        "print(has_lucky_number([1, 2, 3, 4, 5, 6, 8]))"
      ],
      "metadata": {
        "colab": {
          "base_uri": "https://localhost:8080/"
        },
        "id": "SiA6LuFL6PbU",
        "outputId": "f6209961-dc4e-41cb-b4d5-cafa92b3aa21"
      },
      "execution_count": 3,
      "outputs": [
        {
          "output_type": "stream",
          "name": "stdout",
          "text": [
            "True\n",
            "False\n"
          ]
        }
      ]
    },
    {
      "cell_type": "markdown",
      "source": [
        "# **2**"
      ],
      "metadata": {
        "id": "dLUT9w9Y5bnk"
      }
    },
    {
      "cell_type": "markdown",
      "source": [
        "Look at the Python expression below. What do you think we'll get when we run it? When you've made your prediction, uncomment the code and run the cell to see if you were right."
      ],
      "metadata": {
        "id": "rEP4dCjM5cv1"
      }
    },
    {
      "cell_type": "code",
      "source": [
        "def elementwise_greater_than(L, thresh):\n",
        "    res = []\n",
        "    for ele in L:\n",
        "        res.append(ele > thresh)\n",
        "    return res\n",
        "\n",
        "print(elementwise_greater_than([1, 2, 3, 4], 2))\n",
        "print(elementwise_greater_than([1, 2, 3, 4], 4))"
      ],
      "metadata": {
        "colab": {
          "base_uri": "https://localhost:8080/"
        },
        "id": "_v1Y4i-Z5dGO",
        "outputId": "642dd299-9962-4d79-b1f4-d471fbfe8a31"
      },
      "execution_count": 5,
      "outputs": [
        {
          "output_type": "stream",
          "name": "stdout",
          "text": [
            "[False, False, True, True]\n",
            "[False, False, False, False]\n"
          ]
        }
      ]
    },
    {
      "cell_type": "markdown",
      "source": [
        "# **3**"
      ],
      "metadata": {
        "id": "Au6qAE_l5dck"
      }
    },
    {
      "cell_type": "markdown",
      "source": [
        "Complete the body of the function below according to its docstring."
      ],
      "metadata": {
        "id": "UQPLvU-Y5ec-"
      }
    },
    {
      "cell_type": "code",
      "source": [
        "def menu_is_boring(meals):\n",
        "    # Iterate over all indices of the list, except the last one\n",
        "    for i in range(len(meals)-1):\n",
        "        if meals[i] == meals[i+1]:\n",
        "            return True\n",
        "    return False\n",
        "\n",
        "print(menu_is_boring(['spam', 'spam', 'eggs']))\n",
        "print(menu_is_boring(['spam', 'eggs', 'spam']))"
      ],
      "metadata": {
        "colab": {
          "base_uri": "https://localhost:8080/"
        },
        "id": "zkDP7jRl5ezU",
        "outputId": "bdd66cff-1f1e-42d0-a3a3-464bdf5ad6df"
      },
      "execution_count": 6,
      "outputs": [
        {
          "output_type": "stream",
          "name": "stdout",
          "text": [
            "True\n",
            "False\n"
          ]
        }
      ]
    },
    {
      "cell_type": "markdown",
      "source": [
        "# **4**"
      ],
      "metadata": {
        "id": "Y9yia0z95fGM"
      }
    },
    {
      "cell_type": "markdown",
      "source": [
        "Next to the Blackjack table, the Python Challenge Casino has a slot machine. You can get a result from the slot machine by calling play_slot_machine(). The number it returns is your winnings in dollars. Usually it returns 0. But sometimes you'll get lucky and get a big payday. Try running it below:"
      ],
      "metadata": {
        "id": "nWWBk92S5gPr"
      }
    },
    {
      "cell_type": "code",
      "source": [
        "def play_slot_machine():\n",
        "    \"\"\"Mensimulasikan mesin slot. Pemain membayar 1 kredit setiap putaran.\n",
        "       Jika menang, mereka mendapat 10 kredit. 95% kalah, 5% menang.\"\"\"\n",
        "    return 10 if random.random() < 0.05 else 0\n",
        "\n",
        "def estimate_average_slot_payout(n_runs):\n",
        "    \"\"\"Menghitung rata-rata payout per putaran slot machine\"\"\"\n",
        "    payouts = [play_slot_machine() - 1 for _ in range(n_runs)]  # -1 karena pemain membayar 1 kredit\n",
        "    avg_payout = sum(payouts) / n_runs\n",
        "    return avg_payout\n",
        "\n",
        "# Uji dengan berbagai jumlah percobaan\n",
        "print(estimate_average_slot_payout(1000000))\n",
        "print(estimate_average_slot_payout(1000))\n"
      ],
      "metadata": {
        "colab": {
          "base_uri": "https://localhost:8080/"
        },
        "id": "uWm1FVUU5g11",
        "outputId": "d7bd0e97-3745-4187-b827-fe91db72c6ad"
      },
      "execution_count": 10,
      "outputs": [
        {
          "output_type": "stream",
          "name": "stdout",
          "text": [
            "-0.49676\n",
            "-0.36\n"
          ]
        }
      ]
    }
  ]
}