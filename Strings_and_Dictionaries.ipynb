{
  "nbformat": 4,
  "nbformat_minor": 0,
  "metadata": {
    "colab": {
      "provenance": [],
      "authorship_tag": "ABX9TyMUeouGvIog1ZiAju/1cPyG",
      "include_colab_link": true
    },
    "kernelspec": {
      "name": "python3",
      "display_name": "Python 3"
    },
    "language_info": {
      "name": "python"
    }
  },
  "cells": [
    {
      "cell_type": "markdown",
      "metadata": {
        "id": "view-in-github",
        "colab_type": "text"
      },
      "source": [
        "<a href=\"https://colab.research.google.com/github/muhammadhafiz27/DIF62130_A_25_2311532007_MuhammadHafiz/blob/main/Strings_and_Dictionaries.ipynb\" target=\"_parent\"><img src=\"https://colab.research.google.com/assets/colab-badge.svg\" alt=\"Open In Colab\"/></a>"
      ]
    },
    {
      "cell_type": "markdown",
      "source": [
        "# **0a**"
      ],
      "metadata": {
        "id": "vCYVjjBv8vS1"
      }
    },
    {
      "cell_type": "code",
      "source": [
        "a = \"\"\n",
        "length = len(a)\n",
        "print(length)"
      ],
      "metadata": {
        "colab": {
          "base_uri": "https://localhost:8080/"
        },
        "id": "IqOSCV9X8wtM",
        "outputId": "ff157524-f1c9-44e3-8b70-6172b339d13a"
      },
      "execution_count": 4,
      "outputs": [
        {
          "output_type": "stream",
          "name": "stdout",
          "text": [
            "0\n"
          ]
        }
      ]
    },
    {
      "cell_type": "markdown",
      "source": [
        "# **0b**"
      ],
      "metadata": {
        "id": "EDjLmtrB8vDH"
      }
    },
    {
      "cell_type": "code",
      "source": [
        "b = \"it's ok\"\n",
        "length = len(b)\n",
        "print(length)"
      ],
      "metadata": {
        "colab": {
          "base_uri": "https://localhost:8080/"
        },
        "id": "1SfSouNn8yLs",
        "outputId": "81af2846-3023-448e-8292-02df94be699d"
      },
      "execution_count": 5,
      "outputs": [
        {
          "output_type": "stream",
          "name": "stdout",
          "text": [
            "7\n"
          ]
        }
      ]
    },
    {
      "cell_type": "markdown",
      "source": [
        "# **0c**"
      ],
      "metadata": {
        "id": "qq_LFNKa8uw-"
      }
    },
    {
      "cell_type": "code",
      "source": [
        "c = 'it\\'s ok'\n",
        "length = len(c)\n",
        "print(length)"
      ],
      "metadata": {
        "colab": {
          "base_uri": "https://localhost:8080/"
        },
        "id": "FodlXvCL8zls",
        "outputId": "f39014ea-a784-4ec5-f0f9-bc8806fc6b66"
      },
      "execution_count": 6,
      "outputs": [
        {
          "output_type": "stream",
          "name": "stdout",
          "text": [
            "7\n"
          ]
        }
      ]
    },
    {
      "cell_type": "markdown",
      "source": [
        "# **0d**"
      ],
      "metadata": {
        "id": "CssdvOgu8uR8"
      }
    },
    {
      "cell_type": "code",
      "source": [
        "d = \"\"\"hey\"\"\"\n",
        "length = len(d)\n",
        "print(length)"
      ],
      "metadata": {
        "colab": {
          "base_uri": "https://localhost:8080/"
        },
        "id": "ReQtK6Kx80L0",
        "outputId": "1669a018-a274-4015-c6b4-a8bfd1577d8e"
      },
      "execution_count": 7,
      "outputs": [
        {
          "output_type": "stream",
          "name": "stdout",
          "text": [
            "3\n"
          ]
        }
      ]
    },
    {
      "cell_type": "markdown",
      "source": [
        "# **0e**"
      ],
      "metadata": {
        "id": "acQh-bSU8sYO"
      }
    },
    {
      "cell_type": "code",
      "source": [
        "e = '\\n'\n",
        "length = len(e)\n",
        "print(length)"
      ],
      "metadata": {
        "colab": {
          "base_uri": "https://localhost:8080/"
        },
        "id": "mefkbnQh81gk",
        "outputId": "24a3f5f5-e599-488d-ce75-84f19d1e6b0b"
      },
      "execution_count": 8,
      "outputs": [
        {
          "output_type": "stream",
          "name": "stdout",
          "text": [
            "1\n"
          ]
        }
      ]
    },
    {
      "cell_type": "markdown",
      "source": [
        "# **1**"
      ],
      "metadata": {
        "id": "6PMxdidP8p1P"
      }
    },
    {
      "cell_type": "markdown",
      "source": [
        "There is a saying that \"Data scientists spend 80% of their time cleaning data, and 20% of their time complaining about cleaning data.\" Let's see if you can write a function to help clean US zip code data. Given a string, it should return whether or not that string represents a valid zip code. For our purposes, a valid zip code is any string consisting of exactly 5 digits.\n",
        "\n",
        "HINT: str has a method that will be useful here. Use help(str) to review a list of string methods."
      ],
      "metadata": {
        "id": "r1qtQU3S8pxw"
      }
    },
    {
      "cell_type": "code",
      "source": [
        "def is_valid_zip(zip_code):\n",
        "    return len(zip_code) == 5 and zip_code.isdigit()\n",
        "\n",
        "print(is_valid_zip(\"12345\"))\n",
        "print(is_valid_zip(\"1234\"))\n",
        "print(is_valid_zip(\"a2345\"))"
      ],
      "metadata": {
        "colab": {
          "base_uri": "https://localhost:8080/"
        },
        "id": "m8IdwPQV82r8",
        "outputId": "26572fcb-eb5b-4d2c-ab2a-73e60b536aac"
      },
      "execution_count": 10,
      "outputs": [
        {
          "output_type": "stream",
          "name": "stdout",
          "text": [
            "True\n",
            "False\n",
            "False\n"
          ]
        }
      ]
    },
    {
      "cell_type": "markdown",
      "source": [
        "# **2**"
      ],
      "metadata": {
        "id": "HzlKhWun8puM"
      }
    },
    {
      "cell_type": "markdown",
      "source": [
        "A researcher has gathered thousands of news articles. But she wants to focus her attention on articles including a specific word. Complete the function below to help her filter her list of articles.\n",
        "\n",
        "Your function should meet the following criteria:\n",
        "*   Do not include documents where the keyword string shows up only as a part of a\n",
        "larger word. For example, if she were looking for the keyword “closed”, you would not include the string “enclosed.”\n",
        "*   She does not want you to distinguish upper case from lower case letters. So the phrase “Closed the case.” would be included when the keyword is “closed”\n",
        "*   Do not let periods or commas affect what is matched. “It is closed.” would be included when the keyword is “closed”. But you can assume there are no other types of punctuation."
      ],
      "metadata": {
        "id": "DFKjX16i8pqH"
      }
    },
    {
      "cell_type": "code",
      "source": [
        "def word_search(doc_list, keyword):\n",
        "    # list to hold the indices of matching documents\n",
        "    indices = []\n",
        "    # Iterate through the indices (i) and elements (doc) of documents\n",
        "    for i, doc in enumerate(doc_list):\n",
        "        # Split the string doc into a list of words (according to whitespace)\n",
        "        tokens = doc.split()\n",
        "        # Make a transformed list where we 'normalize' each word to facilitate matching.\n",
        "        # Periods and commas are removed from the end of each word, and it's set to all lowercase.\n",
        "        normalized = [token.rstrip('.,').lower() for token in tokens]\n",
        "        # Is there a match? If so, update the list of matching indices.\n",
        "        if keyword.lower() in normalized:\n",
        "            indices.append(i)\n",
        "    return indices\n",
        "\n",
        "\n",
        "doc_list = [\"The Learn Python Challenge Casino.\", \"They bought a car\", \"Casinoville\"]\n",
        "word_search(doc_list, 'car')\n",
        "print(word_search(doc_list, 'car'))\n",
        "print(word_search(doc_list, 'casino'))"
      ],
      "metadata": {
        "colab": {
          "base_uri": "https://localhost:8080/"
        },
        "id": "92HqCOHs83V2",
        "outputId": "01f44a99-52e3-491a-a8ab-608eae2abb52"
      },
      "execution_count": 12,
      "outputs": [
        {
          "output_type": "stream",
          "name": "stdout",
          "text": [
            "[1]\n",
            "[0]\n"
          ]
        }
      ]
    },
    {
      "cell_type": "markdown",
      "source": [
        "# **3**"
      ],
      "metadata": {
        "id": "5nV2Z08E8pjZ"
      }
    },
    {
      "cell_type": "markdown",
      "source": [
        "Now the researcher wants to supply multiple keywords to search for. Complete the function below to help her.\n",
        "\n",
        "(You're encouraged to use the word_search function you just wrote when implementing this function. Reusing code in this way makes your programs more robust and readable - and it saves typing!)"
      ],
      "metadata": {
        "id": "LWkBKGqK8pav"
      }
    },
    {
      "cell_type": "code",
      "execution_count": 14,
      "metadata": {
        "colab": {
          "base_uri": "https://localhost:8080/"
        },
        "id": "03kdamWq8cYa",
        "outputId": "7e9f6932-e097-475b-ad0f-716f0adebf5d"
      },
      "outputs": [
        {
          "output_type": "stream",
          "name": "stdout",
          "text": [
            "{'car': [1], 'case': []}\n",
            "{'car': [1], 'case': [], 'the': [0]}\n"
          ]
        }
      ],
      "source": [
        "def multi_word_search(documents, keywords):\n",
        "    keyword_to_indices = {}\n",
        "    for keyword in keywords:\n",
        "        keyword_to_indices[keyword] = word_search(documents, keyword)\n",
        "    return keyword_to_indices\n",
        "\n",
        "multi_word_search(doc_list, ['car', 'case'])\n",
        "print(multi_word_search(doc_list, ['car', 'case']))\n",
        "print(multi_word_search(doc_list, ['car', 'case', 'the']))"
      ]
    }
  ]
}