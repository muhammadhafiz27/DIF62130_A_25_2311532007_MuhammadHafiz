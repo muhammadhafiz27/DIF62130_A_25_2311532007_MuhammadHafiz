{
  "nbformat": 4,
  "nbformat_minor": 0,
  "metadata": {
    "colab": {
      "provenance": [],
      "authorship_tag": "ABX9TyPesk9bq9D2J1oXTmBQiYN2",
      "include_colab_link": true
    },
    "kernelspec": {
      "name": "python3",
      "display_name": "Python 3"
    },
    "language_info": {
      "name": "python"
    }
  },
  "cells": [
    {
      "cell_type": "markdown",
      "metadata": {
        "id": "view-in-github",
        "colab_type": "text"
      },
      "source": [
        "<a href=\"https://colab.research.google.com/github/muhammadhafiz27/DIF62130_A_25_2311532007_MuhammadHafiz/blob/main/Booleans_and_Conditionals.ipynb\" target=\"_parent\"><img src=\"https://colab.research.google.com/assets/colab-badge.svg\" alt=\"Open In Colab\"/></a>"
      ]
    },
    {
      "cell_type": "markdown",
      "source": [
        "# **1**"
      ],
      "metadata": {
        "id": "IToQXp4aqf7D"
      }
    },
    {
      "cell_type": "markdown",
      "source": [
        "Many programming languages have sign available as a built-in function. Python doesn't, but we can define our own!\n",
        "\n",
        "In the cell below, define a function called sign which takes a numerical argument and returns -1 if it's negative, 1 if it's positive, and 0 if it's 0."
      ],
      "metadata": {
        "id": "oC9K8zz3qeiE"
      }
    },
    {
      "cell_type": "code",
      "execution_count": 4,
      "metadata": {
        "colab": {
          "base_uri": "https://localhost:8080/"
        },
        "id": "C4tUOjjIn-U1",
        "outputId": "ae2b8242-9e40-489f-b2af-eade76c67341"
      },
      "outputs": [
        {
          "output_type": "stream",
          "name": "stdout",
          "text": [
            "1\n",
            "-1\n",
            "0\n"
          ]
        }
      ],
      "source": [
        "def sign(x):\n",
        "    if x > 0:\n",
        "        return 1\n",
        "    elif x < 0:\n",
        "        return -1\n",
        "    else:\n",
        "        return 0\n",
        "\n",
        "print(sign(2))\n",
        "print(sign(-4))\n",
        "print(sign(0))"
      ]
    },
    {
      "cell_type": "markdown",
      "source": [
        "# **2**"
      ],
      "metadata": {
        "id": "3ttEUEIgq3Ub"
      }
    },
    {
      "cell_type": "markdown",
      "source": [
        "We've decided to add \"logging\" to our to_smash function from the previous exercise."
      ],
      "metadata": {
        "id": "zoDkUjysq4md"
      }
    },
    {
      "cell_type": "code",
      "source": [
        "def to_smash(total_candies):\n",
        "    \"\"\"Return the number of leftover candies that must be smashed after distributing\n",
        "    the given number of candies evenly between 3 friends.\n",
        "\n",
        "    >>> to_smash(91)\n",
        "    1\n",
        "    \"\"\"\n",
        "    print(\"Splitting\", total_candies, \"candies\")\n",
        "    return total_candies % 3\n",
        "\n",
        "to_smash(91)"
      ],
      "metadata": {
        "colab": {
          "base_uri": "https://localhost:8080/"
        },
        "id": "QjYSNkvJq7bc",
        "outputId": "4f4e9586-4b76-4df6-ccb8-1eea4040df00"
      },
      "execution_count": 5,
      "outputs": [
        {
          "output_type": "stream",
          "name": "stdout",
          "text": [
            "Splitting 91 candies\n"
          ]
        },
        {
          "output_type": "execute_result",
          "data": {
            "text/plain": [
              "1"
            ]
          },
          "metadata": {},
          "execution_count": 5
        }
      ]
    },
    {
      "cell_type": "code",
      "source": [
        "to_smash(1)"
      ],
      "metadata": {
        "colab": {
          "base_uri": "https://localhost:8080/"
        },
        "id": "F0_qNX6irJzx",
        "outputId": "599d5cda-8e78-429f-a7cd-36beb776d0ee"
      },
      "execution_count": 6,
      "outputs": [
        {
          "output_type": "stream",
          "name": "stdout",
          "text": [
            "Splitting 1 candies\n"
          ]
        },
        {
          "output_type": "execute_result",
          "data": {
            "text/plain": [
              "1"
            ]
          },
          "metadata": {},
          "execution_count": 6
        }
      ]
    },
    {
      "cell_type": "code",
      "source": [
        "def to_smash(total_candies):\n",
        "    \"\"\"Return the number of leftover candies that must be smashed after distributing\n",
        "    the given number of candies evenly between 3 friends.\n",
        "\n",
        "    >>> to_smash(91)\n",
        "    1\n",
        "    \"\"\"\n",
        "    if total_candies == 1:\n",
        "      print(\"Splitting 1 candy\")\n",
        "    else:\n",
        "      print(\"Splitting\", total_candies, \"candies\")\n",
        "    return total_candies % 3\n",
        "\n",
        "to_smash(91)\n",
        "to_smash(1)"
      ],
      "metadata": {
        "colab": {
          "base_uri": "https://localhost:8080/"
        },
        "id": "kCx1miPfrLSK",
        "outputId": "c63f192d-dde7-4d31-8b9f-ad11d3dd9375"
      },
      "execution_count": 16,
      "outputs": [
        {
          "output_type": "stream",
          "name": "stdout",
          "text": [
            "Splitting 91 candies\n",
            "Splitting 1 candy\n"
          ]
        },
        {
          "output_type": "execute_result",
          "data": {
            "text/plain": [
              "1"
            ]
          },
          "metadata": {},
          "execution_count": 16
        }
      ]
    },
    {
      "cell_type": "markdown",
      "source": [
        "# **3**"
      ],
      "metadata": {
        "id": "wbw8zJmTsfOa"
      }
    },
    {
      "cell_type": "markdown",
      "source": [
        "In the tutorial, we talked about deciding whether we're prepared for the weather. I said that I'm safe from today's weather if...\n",
        "\n",
        "*   I have an umbrella...\n",
        "*   or if the rain isn't too heavy and I have a hood...\n",
        "*   otherwise, I'm still fine unless it's raining and it's a workday\n",
        "\n",
        "The function below uses our first attempt at turning this logic into a Python expression. I claimed that there was a bug in that code. Can you find it?\n",
        "\n",
        "To prove that prepared_for_weather is buggy, come up with a set of inputs where either:\n",
        "\n",
        "*   the function returns False (but should have returned True), or\n",
        "*   the function returned True (but should have returned False).\n",
        "\n",
        "To get credit for completing this question, your code should return a Correct result."
      ],
      "metadata": {
        "id": "2MeEaR7nshKE"
      }
    },
    {
      "cell_type": "code",
      "source": [
        "def prepared_for_weather(have_umbrella, rain_level, have_hood, is_workday):\n",
        "    # Don't change this code. Our goal is just to find the bug, not fix it!\n",
        "    return have_umbrella or rain_level < 5 and have_hood or not rain_level > 0 and is_workday\n",
        "\n",
        "# Change the values of these inputs so they represent a case where prepared_for_weather\n",
        "# returns the wrong answer.\n",
        "have_umbrella = False\n",
        "rain_level = 0.0\n",
        "have_hood = False\n",
        "is_workday = False\n",
        "\n",
        "# Check what the function returns given the current values of the variables above\n",
        "actual = prepared_for_weather(have_umbrella, rain_level, have_hood, is_workday)\n",
        "print(actual)"
      ],
      "metadata": {
        "colab": {
          "base_uri": "https://localhost:8080/"
        },
        "id": "BYpAE1YCs9xD",
        "outputId": "22b2a613-ab23-40bb-9b48-0ab8e11cb858"
      },
      "execution_count": 18,
      "outputs": [
        {
          "output_type": "stream",
          "name": "stdout",
          "text": [
            "False\n"
          ]
        }
      ]
    },
    {
      "cell_type": "markdown",
      "source": [
        "# **4**"
      ],
      "metadata": {
        "id": "bcTDaEcZthR7"
      }
    },
    {
      "cell_type": "markdown",
      "source": [
        "The function is_negative below is implemented correctly - it returns True if the given number is negative and False otherwise.\n",
        "\n",
        "However, it's more verbose than it needs to be. We can actually reduce the number of lines of code in this function by 75% while keeping the same behaviour.\n",
        "\n",
        "See if you can come up with an equivalent body that uses just one line of code, and put it in the function concise_is_negative. (HINT: you don't even need Python's ternary syntax)"
      ],
      "metadata": {
        "id": "lNp8tAIctjQj"
      }
    },
    {
      "cell_type": "code",
      "source": [
        "def is_negative(number):\n",
        "    if number < 0:\n",
        "        return True\n",
        "    else:\n",
        "        return False\n",
        "\n",
        "def concise_is_negative(number):\n",
        "    return number < 0\n",
        "    pass # Your code goes here (try to keep it to one line!)\n",
        "\n",
        "print(concise_is_negative(-1))\n",
        "print(concise_is_negative(1))"
      ],
      "metadata": {
        "colab": {
          "base_uri": "https://localhost:8080/"
        },
        "id": "oV9nF6uBtmAT",
        "outputId": "ed48b5a1-5b62-449c-d7c5-f1d213673617"
      },
      "execution_count": 22,
      "outputs": [
        {
          "output_type": "stream",
          "name": "stdout",
          "text": [
            "True\n",
            "False\n"
          ]
        }
      ]
    },
    {
      "cell_type": "markdown",
      "source": [
        "# **5a**"
      ],
      "metadata": {
        "id": "KvzTh8RGuiEB"
      }
    },
    {
      "cell_type": "markdown",
      "source": [
        "The boolean variables ketchup, mustard and onion represent whether a customer wants a particular topping on their hot dog. We want to implement a number of boolean functions that correspond to some yes-or-no questions about the customer's order. For example:"
      ],
      "metadata": {
        "id": "2wQ1HW2HukUb"
      }
    },
    {
      "cell_type": "code",
      "source": [
        "def onionless(ketchup, mustard, onion):\n",
        "    \"\"\"Return whether the customer doesn't want onions.\n",
        "    \"\"\"\n",
        "    return not onion"
      ],
      "metadata": {
        "id": "QLweJVGNujfm"
      },
      "execution_count": 23,
      "outputs": []
    },
    {
      "cell_type": "code",
      "source": [
        "def wants_all_toppings(ketchup, mustard, onion):\n",
        "    \"\"\"Return whether the customer wants \"the works\" (all 3 toppings)\n",
        "    \"\"\"\n",
        "    return ketchup and mustard and onion\n",
        "    pass\n",
        "\n",
        "print(wants_all_toppings(True, True, True))\n",
        "print(wants_all_toppings(True, True, False))\n",
        "print(wants_all_toppings(False, False, False))"
      ],
      "metadata": {
        "colab": {
          "base_uri": "https://localhost:8080/"
        },
        "id": "cTS0lszHu5sq",
        "outputId": "bb50435e-f6d4-4eb7-bee1-9c3142d56811"
      },
      "execution_count": 27,
      "outputs": [
        {
          "output_type": "stream",
          "name": "stdout",
          "text": [
            "True\n",
            "False\n",
            "False\n"
          ]
        }
      ]
    },
    {
      "cell_type": "markdown",
      "source": [
        "# **5b**"
      ],
      "metadata": {
        "id": "wx3CzaqSvHfy"
      }
    },
    {
      "cell_type": "markdown",
      "source": [
        "For the next function, fill in the body to match the English description in the docstring."
      ],
      "metadata": {
        "id": "u-gfFYyWvJTr"
      }
    },
    {
      "cell_type": "code",
      "source": [
        "def wants_plain_hotdog(ketchup, mustard, onion):\n",
        "    \"\"\"Return whether the customer wants a plain hot dog with no toppings.\n",
        "    \"\"\"\n",
        "    return not (ketchup or mustard or onion)\n",
        "    pass\n",
        "\n",
        "print(wants_plain_hotdog(True, True, True))\n",
        "print(wants_plain_hotdog(True, True, False))\n",
        "print(wants_plain_hotdog(False, False, False))"
      ],
      "metadata": {
        "colab": {
          "base_uri": "https://localhost:8080/"
        },
        "id": "XfiKVB2ivLui",
        "outputId": "5d636eee-dbbc-4f90-bc0f-bbe9fe9ca9e1"
      },
      "execution_count": 29,
      "outputs": [
        {
          "output_type": "stream",
          "name": "stdout",
          "text": [
            "False\n",
            "False\n",
            "True\n"
          ]
        }
      ]
    },
    {
      "cell_type": "markdown",
      "source": [
        "# **5c**"
      ],
      "metadata": {
        "id": "Ry-MFkICviLj"
      }
    },
    {
      "cell_type": "markdown",
      "source": [
        "You know what to do: for the next function, fill in the body to match the English description in the docstring."
      ],
      "metadata": {
        "id": "TxHZswVbvxvj"
      }
    },
    {
      "cell_type": "code",
      "source": [
        "def exactly_one_sauce(ketchup, mustard, onion):\n",
        "    \"\"\"Return whether the customer wants either ketchup or mustard, but not both.\n",
        "    (You may be familiar with this operation under the name \"exclusive or\")\n",
        "    \"\"\"\n",
        "    return (ketchup and not mustard) or (mustard and not ketchup)\n",
        "    pass\n",
        "\n",
        "print(exactly_one_sauce(True, True, True))\n",
        "print(exactly_one_sauce(True, True, False))\n",
        "print(exactly_one_sauce(False, False, False))\n",
        "print(exactly_one_sauce(True, False, False))"
      ],
      "metadata": {
        "colab": {
          "base_uri": "https://localhost:8080/"
        },
        "id": "EcA3g_ZWvxTL",
        "outputId": "ef1d218b-8462-447b-c1ed-bc5ca1441fbc"
      },
      "execution_count": 31,
      "outputs": [
        {
          "output_type": "stream",
          "name": "stdout",
          "text": [
            "False\n",
            "False\n",
            "False\n",
            "True\n"
          ]
        }
      ]
    },
    {
      "cell_type": "markdown",
      "source": [
        "# **6**"
      ],
      "metadata": {
        "id": "7UY8RpzLwURV"
      }
    },
    {
      "cell_type": "markdown",
      "source": [
        "We’ve seen that calling bool() on an integer returns False if it’s equal to 0 and True otherwise. What happens if we call int() on a bool? Try it out in the notebook cell below.\n",
        "\n",
        "Can you take advantage of this to write a succinct function that corresponds to the English sentence \"does the customer want exactly one topping?\"?"
      ],
      "metadata": {
        "id": "zhnaXy3BwWBT"
      }
    },
    {
      "cell_type": "code",
      "source": [
        "def exactly_one_topping(ketchup, mustard, onion):\n",
        "    \"\"\"Return whether the customer wants exactly one of the three available toppings\n",
        "    on their hot dog.\n",
        "    \"\"\"\n",
        "    return (int(ketchup) + int(mustard) + int(onion)) == 1\n",
        "    pass\n",
        "\n",
        "print(exactly_one_topping(True, True, True))\n",
        "print(exactly_one_topping(True, True, False))\n",
        "print(exactly_one_topping(False, False, False))\n",
        "print(exactly_one_topping(True, False, False))\n",
        "print(exactly_one_topping(False, True, False))"
      ],
      "metadata": {
        "colab": {
          "base_uri": "https://localhost:8080/"
        },
        "id": "ZZKB2S48wYQE",
        "outputId": "6105981b-7471-442e-ffed-da5d99b003d3"
      },
      "execution_count": 33,
      "outputs": [
        {
          "output_type": "stream",
          "name": "stdout",
          "text": [
            "False\n",
            "False\n",
            "False\n",
            "True\n",
            "True\n"
          ]
        }
      ]
    },
    {
      "cell_type": "markdown",
      "source": [
        "# **7**"
      ],
      "metadata": {
        "id": "pAHYdd42w51k"
      }
    },
    {
      "cell_type": "markdown",
      "source": [
        "In this problem we'll be working with a simplified version of blackjack (aka twenty-one). In this version there is one player (who you'll control) and a dealer. Play proceeds as follows:\n",
        "\n",
        "*   The player is dealt two face-up cards. The dealer is dealt one face-up card.\n",
        "*   The player may ask to be dealt another card ('hit') as many times as they wish. If the sum of their cards exceeds 21, they lose the round immediately.\n",
        "*   The dealer then deals additional cards to himself until either:\n",
        "\n",
        "the sum of the dealer's cards exceeds 21, in which case the player wins the round\n",
        "\n",
        "the sum of the dealer's cards is greater than or equal to 17. If the player's total is greater than the dealer's, the player wins. Otherwise, the dealer wins\n",
        "\n",
        "\n",
        "(even in case of a tie).\n",
        "When calculating the sum of cards, Jack, Queen, and King count for 10. Aces can count as 1 or 11 (when referring to a player's \"total\" above, we mean the largest total that can be made without exceeding 21. So e.g. A+8 = 19, A+8+8 = 17)\n",
        "\n",
        "For this problem, you'll write a function representing the player's decision-making strategy in this game. We've provided a very unintelligent implementation below:"
      ],
      "metadata": {
        "id": "BxSvl4Xnw7GL"
      }
    },
    {
      "cell_type": "code",
      "source": [
        "def should_hit(dealer_total, player_total, player_low_aces, player_high_aces):\n",
        "    \"\"\"Return True if the player should hit (request another card) given the current game\n",
        "    state, or False if the player should stay.\n",
        "    When calculating a hand's total value, we count aces as \"high\" (with value 11) if doing so\n",
        "    doesn't bring the total above 21, otherwise we count them as low (with value 1).\n",
        "    For example, if the player's hand is {A, A, A, 7}, we will count it as 11 + 1 + 1 + 7,\n",
        "    and therefore set player_total=20, player_low_aces=2, player_high_aces=1.\n",
        "    \"\"\"\n",
        "    # Jika total pemain 11 atau kurang, selalu hit\n",
        "    if player_total <= 11:\n",
        "        return True\n",
        "\n",
        "    # Jika total pemain antara 12-16 dan dealer punya kartu 7 atau lebih, hit\n",
        "    if 12 <= player_total <= 16 and dealer_total >= 7:\n",
        "        return True\n",
        "\n",
        "    # Jika total pemain 17 atau lebih, stay\n",
        "    return False\n",
        "\n",
        "print(should_hit(10, 12, 0, 0))  # True (karena dealer punya 10, dan kita hanya punya 12)\n",
        "print(should_hit(5, 17, 0, 0))   # False (karena kita sudah di 17, lebih baik stay)"
      ],
      "metadata": {
        "colab": {
          "base_uri": "https://localhost:8080/"
        },
        "id": "7VBGUyZYxohk",
        "outputId": "f9fdb4f5-2078-4b39-94cd-962b7b0c5acf"
      },
      "execution_count": 37,
      "outputs": [
        {
          "output_type": "stream",
          "name": "stdout",
          "text": [
            "True\n",
            "False\n"
          ]
        }
      ]
    }
  ]
}
