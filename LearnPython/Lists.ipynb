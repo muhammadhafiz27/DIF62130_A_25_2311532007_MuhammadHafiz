{
  "nbformat": 4,
  "nbformat_minor": 0,
  "metadata": {
    "colab": {
      "provenance": [],
      "authorship_tag": "ABX9TyNQcByhPexGiPACROa1xOj8"
    },
    "kernelspec": {
      "name": "python3",
      "display_name": "Python 3"
    },
    "language_info": {
      "name": "python"
    }
  },
  "cells": [
    {
      "cell_type": "markdown",
      "source": [
        "# **1**"
      ],
      "metadata": {
        "id": "Dl3e9qZj0D7W"
      }
    },
    {
      "cell_type": "markdown",
      "source": [
        "Complete the function below according to its docstring."
      ],
      "metadata": {
        "id": "AKdxkdyR0FS2"
      }
    },
    {
      "cell_type": "code",
      "execution_count": 5,
      "metadata": {
        "colab": {
          "base_uri": "https://localhost:8080/"
        },
        "id": "OePKThCVzLFF",
        "outputId": "71983a1e-c2d3-4112-8959-33eab2c6a982"
      },
      "outputs": [
        {
          "output_type": "stream",
          "name": "stdout",
          "text": [
            "2\n",
            "None\n",
            "None\n",
            "4\n"
          ]
        }
      ],
      "source": [
        "def select_second(L):\n",
        "    if len(L) < 2:\n",
        "        return None\n",
        "    return L[1]\n",
        "\n",
        "print(select_second([1, 2, 3]))\n",
        "print(select_second([1]))\n",
        "print(select_second([]))\n",
        "print(select_second([1, 4]))"
      ]
    },
    {
      "cell_type": "markdown",
      "source": [
        "# **2**"
      ],
      "metadata": {
        "id": "gNBLmeSO2Sme"
      }
    },
    {
      "cell_type": "markdown",
      "source": [
        "You are analyzing sports teams. Members of each team are stored in a list. The Coach is the first name in the list, the captain is the second name in the list, and other players are listed after that. These lists are stored in another list, which starts with the best team and proceeds through the list to the worst team last. Complete the function below to select the captain of the worst team."
      ],
      "metadata": {
        "id": "tRxCAslk2VC9"
      }
    },
    {
      "cell_type": "code",
      "source": [
        "def losing_team_captain(teams):\n",
        "    return teams[-1][1]\n",
        "\n",
        "print(losing_team_captain([['coach1', 'captain1'], ['coach2', 'captain2'], ['coach3', 'captain3']]))\n",
        "print(losing_team_captain([['coach1', 'captain1'], ['coach2', 'captain2'], ['coach3', 'captain5']]))\n",
        "print(losing_team_captain([['coach1', 'captain1'], ['coach3', 'captain2']]))"
      ],
      "metadata": {
        "colab": {
          "base_uri": "https://localhost:8080/"
        },
        "id": "J_ZXlCew0zWr",
        "outputId": "6cba6fe1-7b79-4423-b8a8-7ef38b571bfa"
      },
      "execution_count": 9,
      "outputs": [
        {
          "output_type": "stream",
          "name": "stdout",
          "text": [
            "captain3\n",
            "captain5\n",
            "captain2\n"
          ]
        }
      ]
    },
    {
      "cell_type": "markdown",
      "source": [
        "# **3**"
      ],
      "metadata": {
        "id": "KiedSbRR2Tmt"
      }
    },
    {
      "cell_type": "markdown",
      "source": [
        "The next iteration of Mario Kart will feature an extra-infuriating new item, the Purple Shell. When used, it warps the last place racer into first place and the first place racer into last place. Complete the function below to implement the Purple Shell's effect."
      ],
      "metadata": {
        "id": "uoCHGliy2Y-l"
      }
    },
    {
      "cell_type": "code",
      "source": [
        "def purple_shell(racers):\n",
        "    # One slick way eto do the swap is x[0], x[-1] = x[-1], x[0].\n",
        "    temp = racers[0]\n",
        "    racers[0] = racers[-1]\n",
        "    racers[-1] = temp\n",
        "    return racers\n",
        "\n",
        "print(purple_shell(['a', 'b', 'c', 'd', 'e']))"
      ],
      "metadata": {
        "colab": {
          "base_uri": "https://localhost:8080/"
        },
        "id": "WVPL3tdp1ad8",
        "outputId": "febfa48d-2c3c-4db5-c102-597c1162eb43"
      },
      "execution_count": 15,
      "outputs": [
        {
          "output_type": "stream",
          "name": "stdout",
          "text": [
            "['e', 'b', 'c', 'd', 'a']\n"
          ]
        }
      ]
    },
    {
      "cell_type": "markdown",
      "source": [
        "# **4**"
      ],
      "metadata": {
        "id": "GaKlOUJU2biF"
      }
    },
    {
      "cell_type": "markdown",
      "source": [
        "The next iteration of Mario Kart will feature an extra-infuriating new item, the Purple Shell. When used, it warps the last place racer into first place and the first place racer into last place. Complete the function below to implement the Purple Shell's effect."
      ],
      "metadata": {
        "id": "wMNyyW2w2dBl"
      }
    },
    {
      "cell_type": "code",
      "source": [
        "a = [1, 2, 3]\n",
        "b = [1, [2, 3]]\n",
        "c = []\n",
        "d = [1, 2, 3][1:]\n",
        "\n",
        "# Menghitung panjang masing-masing list\n",
        "lengths = [len(a), len(b), len(c), len(d)]\n",
        "\n",
        "print(lengths)"
      ],
      "metadata": {
        "colab": {
          "base_uri": "https://localhost:8080/"
        },
        "id": "awdJgBHg2fWr",
        "outputId": "e99fe79f-ce70-491e-9ec5-161130184014"
      },
      "execution_count": 18,
      "outputs": [
        {
          "output_type": "stream",
          "name": "stdout",
          "text": [
            "[3, 2, 0, 2]\n"
          ]
        }
      ]
    },
    {
      "cell_type": "markdown",
      "source": [
        "# **5**"
      ],
      "metadata": {
        "id": "vpem0mmZ2f-r"
      }
    },
    {
      "cell_type": "markdown",
      "source": [
        "We're using lists to record people who attended our party and what order they arrived in. For example, the following list represents a party with 7 guests, in which Adela showed up first and Ford was the last to arrive:\n",
        "\n",
        "  \n",
        "\n",
        "```\n",
        "party_attendees = ['Adela', 'Fleda', 'Owen', 'May', 'Mona', 'Gilbert', 'Ford']\n",
        "```\n",
        "\n",
        "\n",
        "A guest is considered 'fashionably late' if they arrived after at least half of the party's guests. However, they must not be the very last guest (that's taking it too far). In the above example, Mona and Gilbert are the only guests who were fashionably late.\n",
        "\n",
        "Complete the function below which takes a list of party attendees as well as a person, and tells us whether that person is fashionably late."
      ],
      "metadata": {
        "id": "iBLGYTg32hJc"
      }
    },
    {
      "cell_type": "code",
      "source": [
        "def fashionably_late(arrivals, name):\n",
        "    order = arrivals.index(name)\n",
        "    return order >= len(arrivals) / 2 and order != len(arrivals) - 1\n",
        "\n",
        "party_attendees = ['Adela', 'Fleda', 'Owen', 'May', 'Mona', 'Gilbert', 'Ford']\n",
        "print(fashionably_late(party_attendees, 'Adela'))\n",
        "print(fashionably_late(party_attendees, 'May'))\n",
        "print(fashionably_late(party_attendees, 'Mona'))\n",
        "print(fashionably_late(party_attendees, 'Ford'))"
      ],
      "metadata": {
        "colab": {
          "base_uri": "https://localhost:8080/"
        },
        "id": "XlTECK7S4O7t",
        "outputId": "e72c5dee-dee9-4a05-a38a-f8b0633e057e"
      },
      "execution_count": 21,
      "outputs": [
        {
          "output_type": "stream",
          "name": "stdout",
          "text": [
            "False\n",
            "False\n",
            "True\n",
            "False\n"
          ]
        }
      ]
    }
  ]
}
