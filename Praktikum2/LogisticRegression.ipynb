{
  "nbformat": 4,
  "nbformat_minor": 0,
  "metadata": {
    "colab": {
      "provenance": [],
      "authorship_tag": "ABX9TyMZu1D6AhB0eyLXvWb8qAsd",
      "include_colab_link": true
    },
    "kernelspec": {
      "name": "python3",
      "display_name": "Python 3"
    },
    "language_info": {
      "name": "python"
    }
  },
  "cells": [
    {
      "cell_type": "markdown",
      "metadata": {
        "id": "view-in-github",
        "colab_type": "text"
      },
      "source": [
        "<a href=\"https://colab.research.google.com/github/muhammadhafiz27/DIF62130_A_25_2311532007_MuhammadHafiz/blob/main/Praktikum2/LogisticRegression.ipynb\" target=\"_parent\"><img src=\"https://colab.research.google.com/assets/colab-badge.svg\" alt=\"Open In Colab\"/></a>"
      ]
    },
    {
      "cell_type": "markdown",
      "source": [
        "# **Import Dataset**"
      ],
      "metadata": {
        "id": "VsWiDOuSR_hi"
      }
    },
    {
      "cell_type": "code",
      "execution_count": null,
      "metadata": {
        "colab": {
          "base_uri": "https://localhost:8080/"
        },
        "id": "w9ERQZZlNcH7",
        "outputId": "3211893d-ed41-46c8-dde9-5ede859c4dfc"
      },
      "outputs": [
        {
          "output_type": "stream",
          "name": "stdout",
          "text": [
            "   Pregnancies  Glucose  BloodPressure  SkinThickness  Insulin   BMI  \\\n",
            "0            6      148             72             35        0  33.6   \n",
            "1            1       85             66             29        0  26.6   \n",
            "2            8      183             64              0        0  23.3   \n",
            "3            1       89             66             23       94  28.1   \n",
            "4            0      137             40             35      168  43.1   \n",
            "\n",
            "   DiabetesPedigreeFunction  Age  Outcome  \n",
            "0                     0.627   50        1  \n",
            "1                     0.351   31        0  \n",
            "2                     0.672   32        1  \n",
            "3                     0.167   21        0  \n",
            "4                     2.288   33        1  \n"
          ]
        }
      ],
      "source": [
        "import pandas as pd\n",
        "\n",
        "#load dataset\n",
        "dataset_url = 'https://raw.githubusercontent.com/muhammadhafiz27/DIF62130_A_25_2311532007_MuhammadHafiz/refs/heads/main/Dataset/diabetes.csv'\n",
        "df = pd.read_csv(dataset_url)\n",
        "\n",
        "#display dataset\n",
        "print(df.head())"
      ]
    },
    {
      "cell_type": "markdown",
      "source": [
        "Kode Python di atas menggunakan pustaka pandas untuk memuat dan menampilkan dataset diabetes.csv dari URL yang diberikan melalui link Github"
      ],
      "metadata": {
        "id": "YibbDOpo1646"
      }
    },
    {
      "cell_type": "markdown",
      "source": [
        "# **Selecting Features**"
      ],
      "metadata": {
        "id": "uDaPRMw5Q8DP"
      }
    },
    {
      "cell_type": "code",
      "source": [
        "features_cols = ['Pregnancies', 'Glucose', 'BloodPressure', 'Insulin', 'BMI', 'DiabetesPedigreeFunction', 'Age']\n",
        "x = df[features_cols] #Features\n",
        "y = df.Outcome #Target Variable"
      ],
      "metadata": {
        "id": "yUFAOzedRApU"
      },
      "execution_count": null,
      "outputs": []
    },
    {
      "cell_type": "markdown",
      "source": [
        "Kode ini digunakan untuk memisahkan fitur (X) dan target (y) dalam dataset diabetes. Berikut penjelasan lebih rinci:\n",
        "\n",
        "1. features_cols = ['Pregnancies', 'Glucose', 'BloodPressure', 'Insulin', 'BMI', 'DiabetesPedigreeFunction', 'Age']\n",
        "\n",
        "  Mendefinisikan daftar nama kolom yang akan digunakan sebagai fitur (features) dalam analisis atau model machine learning.\n",
        "\n",
        "2. x = df[features_cols]\n",
        "\n",
        "  Membuat variabel X yang berisi subset dari DataFrame df, hanya mencakup kolom yang disebutkan dalam features_cols.\n",
        "\n",
        "  X adalah variabel independen yang digunakan sebagai input dalam model.\n",
        "\n",
        "3. y = df.Outcome\n",
        "\n",
        "  Membuat variabel y, yang berisi kolom Outcome dari dataset df.\n",
        "  \n",
        "  y adalah variabel dependen atau target, yang biasanya digunakan dalam klasifikasi untuk memprediksi apakah seseorang menderita diabetes atau tidak."
      ],
      "metadata": {
        "id": "BwDoA1au2ATH"
      }
    },
    {
      "cell_type": "code",
      "source": [
        "print(x.shape)\n",
        "print(y.shape)"
      ],
      "metadata": {
        "colab": {
          "base_uri": "https://localhost:8080/"
        },
        "id": "BbNOEX_jRevC",
        "outputId": "ce706723-6479-4e9e-e6f8-4aca1cbeb9d0"
      },
      "execution_count": null,
      "outputs": [
        {
          "output_type": "stream",
          "name": "stdout",
          "text": [
            "(768, 7)\n",
            "(768,)\n"
          ]
        }
      ]
    },
    {
      "cell_type": "markdown",
      "source": [
        "Kode berikut digunakan untuk melihat dimensi (shape) dari variabel X dan y dalam dataset\n",
        "\n",
        "1. x.shape → Menampilkan ukuran (jumlah baris dan kolom) dari X (data fitur).\n",
        "2. y.shape → Menampilkan ukuran dari y (data target)."
      ],
      "metadata": {
        "id": "tFqL7XvA25tt"
      }
    },
    {
      "cell_type": "markdown",
      "source": [
        "# **Splitting Data**"
      ],
      "metadata": {
        "id": "LjRe_jptSMw_"
      }
    },
    {
      "cell_type": "code",
      "source": [
        "from sklearn.model_selection import train_test_split\n",
        "\n",
        "x_train, x_test, y_train, y_test = train_test_split(x, y, test_size=0.30, random_state=16)"
      ],
      "metadata": {
        "id": "t-7ISF82SQDd"
      },
      "execution_count": null,
      "outputs": []
    },
    {
      "cell_type": "markdown",
      "source": [
        "Kode ini digunakan untuk membagi dataset menjadi data training dan testing dengan menggunakan train_test_split dari pustaka scikit-learn.\n",
        "\n",
        "1. from sklearn.model_selection import train_test_split\n",
        "\n",
        "  Mengimpor fungsi train_test_split dari pustaka scikit-learn, yang digunakan untuk membagi dataset.\n",
        "\n",
        "2. x_train, x_test, y_train, y_test = train_test_split(x, y, test_size=0.30, random_state=16)\n",
        "\n",
        "  x_train & y_train → Data latih (training), digunakan untuk melatih model.\n",
        "\n",
        "  x_test & y_test → Data uji (testing), digunakan untuk mengevaluasi model.\n",
        "\n",
        "  test_size=0.30 → 30% dari dataset digunakan untuk pengujian, sedangkan 70% untuk pelatihan.\n",
        "\n",
        "  random_state=16 → Seed untuk pengacakan, memastikan bahwa pemisahan dataset selalu sama setiap kali kode dijalankan."
      ],
      "metadata": {
        "id": "TzhlHbRJ2-4X"
      }
    },
    {
      "cell_type": "markdown",
      "source": [
        "# **Model Development and Prediction**"
      ],
      "metadata": {
        "id": "x1uzG5ogSz2d"
      }
    },
    {
      "cell_type": "code",
      "source": [
        "from sklearn.linear_model import LogisticRegression\n",
        "\n",
        "logreg = LogisticRegression(random_state=16)\n",
        "logreg.fit(x_train, y_train)\n",
        "y_pred = logreg.predict(x_test)"
      ],
      "metadata": {
        "id": "RHWG1ySOS85Y"
      },
      "execution_count": null,
      "outputs": []
    },
    {
      "cell_type": "markdown",
      "source": [
        "Kode ini menerapkan model Logistic Regression untuk klasifikasi pada dataset yang telah dibagi sebelumnya.\n",
        "\n",
        "1. from sklearn.linear_model import LogisticRegression\n",
        "\n",
        "  Mengimpor kelas LogisticRegression dari pustaka scikit-learn, yang digunakan untuk klasifikasi biner atau multikelas.\n",
        "\n",
        "2. logreg = LogisticRegression(random_state=16)\n",
        "\n",
        "  Membuat objek model Logistic Regression dengan random_state=16 agar hasil tetap konsisten setiap kali dijalankan.\n",
        "\n",
        "3. logreg.fit(x_train, y_train)\n",
        "\n",
        "  Melatih (training) model dengan data latih (x_train dan y_train).\n",
        "\n",
        "  Model akan belajar dari pola yang terdapat pada fitur (X) untuk memprediksi target (y).\n",
        "\n",
        "4. y_pred = logreg.predict(x_test)\n",
        "\n",
        "  Menggunakan model yang sudah dilatih untuk memprediksi nilai y (Outcome) berdasarkan x_test.\n",
        "\n",
        "  Hasil prediksi ini disimpan dalam variabel y_pred, yang nantinya bisa dibandingkan dengan y_test untuk mengevaluasi akurasi model."
      ],
      "metadata": {
        "id": "HezFShQB3VAr"
      }
    },
    {
      "cell_type": "markdown",
      "source": [
        "# **Model Evaluating using Confusion Matrix**"
      ],
      "metadata": {
        "id": "qaeciLqPUe3Z"
      }
    },
    {
      "cell_type": "code",
      "source": [
        "from sklearn import metrics\n",
        "\n",
        "cnf_matrix = metrics.confusion_matrix(y_test, y_pred)\n",
        "cnf_matrix"
      ],
      "metadata": {
        "colab": {
          "base_uri": "https://localhost:8080/"
        },
        "id": "4TyYnV3mUlbE",
        "outputId": "a9802f47-83a0-4278-86ae-624f3fa350c5"
      },
      "execution_count": null,
      "outputs": [
        {
          "output_type": "execute_result",
          "data": {
            "text/plain": [
              "array([[134,  13],\n",
              "       [ 35,  49]])"
            ]
          },
          "metadata": {},
          "execution_count": 27
        }
      ]
    },
    {
      "cell_type": "markdown",
      "source": [
        "Kode ini membuat Confusion Matrix untuk mengevaluasi performa model Logistic Regression dalam mengklasifikasikan data uji.\n",
        "\n",
        "1. from sklearn import metrics\n",
        "\n",
        "  Mengimpor pustaka metrics dari scikit-learn, yang menyediakan berbagai metode evaluasi model.\n",
        "\n",
        "2. cnf_matrix = metrics.confusion_matrix(y_test, y_pred)\n",
        "\n",
        "  Menghitung Confusion Matrix dengan membandingkan y_test (label asli) dengan y_pred (prediksi model).\n",
        "\n",
        "  Hasilnya disimpan dalam variabel cnf_matrix.\n",
        "\n",
        "3. cnf_matrix\n",
        "\n",
        "  Menampilkan Confusion Matrix dalam bentuk array (numpy).\n"
      ],
      "metadata": {
        "id": "sjm6XFFW3rln"
      }
    },
    {
      "cell_type": "code",
      "source": [
        "import numpy as np\n",
        "import matplotlib.pyplot as plt\n",
        "import seaborn as sns\n",
        "\n",
        "class_names = [0, 1] #name of classes\n",
        "fig, ax = plt.subplots()\n",
        "\n",
        "tick_marks = np.arange(len(class_names))\n",
        "plt.xticks(tick_marks, class_names)\n",
        "plt.yticks(tick_marks, class_names)\n",
        "\n",
        "#create heatmap\n",
        "sns.heatmap(pd.DataFrame(cnf_matrix), annot=True, cmap='YlGnBu', fmt='g')\n",
        "ax.xaxis.set_label_position('top')\n",
        "plt.tight_layout()\n",
        "plt.title('Confusion Matrix', y=1.1)\n",
        "plt.ylabel('Actual Label')\n",
        "plt.xlabel('Predicted Label')"
      ],
      "metadata": {
        "colab": {
          "base_uri": "https://localhost:8080/",
          "height": 568
        },
        "id": "oFJEr63IV55K",
        "outputId": "44954eff-4ff6-44fe-c9bf-843a90317edb"
      },
      "execution_count": null,
      "outputs": [
        {
          "output_type": "execute_result",
          "data": {
            "text/plain": [
              "Text(0.5, 427.9555555555555, 'Predicted Label')"
            ]
          },
          "metadata": {},
          "execution_count": 31
        },
        {
          "output_type": "display_data",
          "data": {
            "text/plain": [
              "<Figure size 640x480 with 2 Axes>"
            ],
            "image/png": "[encoded data removed]"
          },
          "metadata": {}
        }
      ]
    },
    {
      "cell_type": "markdown",
      "source": [
        "Kode ini digunakan untuk memvisualisasikan Confusion Matrix dalam bentuk heatmap menggunakan Seaborn dan Matplotlib.\n",
        "\n",
        "1. Mengimpor pustaka yang diperlukan\n",
        "\n",
        "  NumPy (np) → Digunakan untuk membuat array indeks kelas.\n",
        "\n",
        "  Matplotlib (plt) → Digunakan untuk membuat plot.\n",
        "\n",
        "  Seaborn (sns) → Digunakan untuk membuat heatmap agar lebih mudah dibaca.\n",
        "  \n",
        "2. Menentukan label kelas\n",
        "\n",
        "  Dataset ini adalah klasifikasi biner, jadi labelnya 0 (Negatif) dan 1 (Positif).\n",
        "\n",
        "3. Membuat figure dan axis untuk plotting\n",
        "\n",
        "  Membuat objek figure dan axis untuk plotting menggunakan Matplotlib.\n",
        "\n",
        "4. Menentukan label sumbu x dan y\n",
        "\n",
        "  Menentukan posisi label kelas di sumbu x dan y.\n",
        "\n",
        "5. Membuat heatmap dengan Seaborn\n",
        "\n",
        "  pd.DataFrame(cnf_matrix) → Mengubah Confusion Matrix menjadi DataFrame agar kompatibel dengan Seaborn.\n",
        "  \n",
        "  annot=True → Menampilkan angka dalam setiap sel.\n",
        "  \n",
        "  cmap='YlGnBu' → Menggunakan warna Yellow-Green-Blue untuk heatmap.\n",
        "\n",
        "  fmt='g' → Format angka dalam sel sebagai bilangan bulat.\n",
        "\n",
        "6. Menyesuaikan tampilan heatmap\n",
        "\n",
        "  ax.xaxis.set_label_position('top')  # Menempatkan label X di atas\n",
        "\n",
        "  plt.tight_layout()  # Menghindari tumpang tindih elemen\n",
        "\n",
        "  plt.title('Confusion Matrix', y=1.1)  # Menambahkan judul\n",
        "\n",
        "  plt.ylabel('Actual Label')  # Menambahkan label sumbu Y\n",
        "\n",
        "  plt.xlabel('Predicted Label')  # Menambahkan label sumbu X\n"
      ],
      "metadata": {
        "id": "WFzrkdw53_yU"
      }
    },
    {
      "cell_type": "markdown",
      "source": [
        "# **Confusion Matrix Evaluation Metrics**"
      ],
      "metadata": {
        "id": "M-e10DHEYWl1"
      }
    },
    {
      "cell_type": "code",
      "source": [
        "from sklearn.metrics import classification_report\n",
        "\n",
        "target_names = ['without diabetes', 'with diabetes']\n",
        "print(classification_report(y_test, y_pred, target_names=target_names))"
      ],
      "metadata": {
        "colab": {
          "base_uri": "https://localhost:8080/"
        },
        "id": "W_7AlWrYYgFu",
        "outputId": "912cf8ae-e5a2-454e-d7fe-751f0a03304e"
      },
      "execution_count": null,
      "outputs": [
        {
          "output_type": "stream",
          "name": "stdout",
          "text": [
            "                  precision    recall  f1-score   support\n",
            "\n",
            "without diabetes       0.79      0.91      0.85       147\n",
            "   with diabetes       0.79      0.58      0.67        84\n",
            "\n",
            "        accuracy                           0.79       231\n",
            "       macro avg       0.79      0.75      0.76       231\n",
            "    weighted avg       0.79      0.79      0.78       231\n",
            "\n"
          ]
        }
      ]
    },
    {
      "cell_type": "markdown",
      "source": [
        "Kode ini digunakan untuk menampilkan laporan klasifikasi yang mencakup akurasi, precision, recall, dan F1-score dari model Logistic Regression.\n",
        "\n",
        "1. from sklearn.metrics import classification_report\n",
        "\n",
        "  Mengimpor fungsi classification_report dari pustaka scikit-learn, yang digunakan untuk mengevaluasi performa model klasifikasi.\n",
        "\n",
        "2. target_names = ['without diabetes', 'with diabetes']\n",
        "\n",
        "  Mendefinisikan label kelas agar lebih mudah dipahami:\n",
        "\n",
        "        'without diabetes' → Kelas 0 (tidak terkena diabetes).\n",
        "        'with diabetes' → Kelas 1 (terkena diabetes).\n",
        "\n",
        "3. print(classification_report(y_test, y_pred, target_names=target_names))\n",
        "\n",
        "  Membandingkan nilai asli (y_test) dengan hasil prediksi (y_pred) untuk menghasilkan metrik evaluasi dalam bentuk tabel."
      ],
      "metadata": {
        "id": "6vCGGAUz41nc"
      }
    },
    {
      "cell_type": "markdown",
      "source": [
        "# **ROC Curve**"
      ],
      "metadata": {
        "id": "A23OqR0NaWsV"
      }
    },
    {
      "cell_type": "code",
      "source": [
        "y_pred_proba = logreg.predict_proba(x_test)[::,1]\n",
        "fpr, tpr, _ = metrics.roc_curve(y_test, y_pred_proba)\n",
        "auc = metrics.roc_auc_score(y_test, y_pred_proba)\n",
        "plt.plot(fpr, tpr, label=\"data 1, auc =\"+ str(auc))\n",
        "plt.legend(loc=4)\n",
        "plt.show()"
      ],
      "metadata": {
        "colab": {
          "base_uri": "https://localhost:8080/",
          "height": 430
        },
        "id": "K5DOacPGaV6E",
        "outputId": "c9341aaa-e993-48c0-8b03-512fbc008720"
      },
      "execution_count": null,
      "outputs": [
        {
          "output_type": "display_data",
          "data": {
            "text/plain": [
              "<Figure size 640x480 with 1 Axes>"
            ],
            "image/png": "[encoded data removed]"
          },
          "metadata": {}
        }
      ]
    },
    {
      "cell_type": "markdown",
      "source": [
        "Kode ini digunakan untuk memplot kurva ROC (Receiver Operating Characteristic) dan menghitung AUC (Area Under Curve) sebagai evaluasi model Logistic Regression.\n",
        "\n",
        "1. y_pred_proba = logreg.predict_proba(x_test)[::,1]\n",
        "\n",
        "  predict_proba(x_test) menghasilkan probabilitas untuk setiap kelas (0 dan 1).\n",
        "\n",
        "  [::,1] mengambil probabilitas kelas 1 (diabetes) sebagai nilai prediksi probabilistik.\n",
        "\n",
        "2. fpr, tpr, _ = metrics.roc_curve(y_test, y_pred_proba)\n",
        "\n",
        "  roc_curve() menghitung False Positive Rate (FPR) dan True Positive Rate (TPR) untuk berbagai threshold.\n",
        "\n",
        "3. auc = metrics.roc_auc_score(y_test, y_pred_proba)\n",
        "\n",
        "  roc_auc_score() menghitung Area Under Curve (AUC), yang menunjukkan seberapa baik model membedakan antara kelas.\n",
        "\n",
        "4. plt.plot(fpr, tpr, label=\"data 1, auc =\"+ str(auc))\n",
        "\n",
        "  Membuat grafik ROC Curve dengan sumbu FPR (X-axis) dan TPR (Y-axis).\n",
        "\n",
        "  Menampilkan nilai AUC di dalam legenda.\n",
        "\n",
        "5. plt.legend(loc=4)\n",
        "\n",
        "  Menempatkan legenda di sudut kanan bawah grafik.\n",
        "\n",
        "6. plt.show()\n",
        "\n",
        "  Menampilkan grafik ROC Curve.\n",
        "\n",
        "Makna AUC (Area Under Curve):\n",
        "\n",
        "* AUC = 1.0 → Model sempurna (100% akurat).\n",
        "* AUC > 0.9 → Model sangat baik.\n",
        "* AUC ≈ 0.8 - 0.9 → Model cukup baik.\n",
        "* AUC ≈ 0.7 - 0.8 → Model bisa diterima, tetapi perlu perbaikan.\n",
        "* AUC < 0.7 → Model kurang bagus, perlu tuning atau metode lain.\n",
        "* AUC ≈ 0.5 → Model tidak lebih baik dari tebakan acak."
      ],
      "metadata": {
        "id": "o_McQjMY5VKD"
      }
    },
    {
      "cell_type": "markdown",
      "source": [
        "# **Area Under Curve**"
      ],
      "metadata": {
        "id": "dpwQr1Jyb45_"
      }
    }
  ]
}